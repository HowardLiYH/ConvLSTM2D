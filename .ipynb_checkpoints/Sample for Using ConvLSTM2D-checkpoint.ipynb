{
 "cells": [
  {
   "cell_type": "code",
   "execution_count": null,
   "id": "54386524",
   "metadata": {},
   "outputs": [],
   "source": [
    "from tensorflow.keras.models import Sequential\n",
    "from tensorflow.keras.layers import ConvLSTM2D, Dense\n",
    "from sklearn.preprocessing import MinMaxScaler\n",
    "import numpy as np\n",
    "\n",
    "# Load your time series data with shape (1405, 15)\n",
    "data = np.random.randn(1405,15)\n",
    "\n",
    "# Define the number of time steps to look back\n",
    "look_back = 30\n",
    "\n",
    "# Split the data into training and testing sets\n",
    "train_size = int(len(data) * 0.8)\n",
    "train_data, test_data = data[0:train_size,:], data[train_size:len(data),:]\n",
    "\n",
    "# Scale the data to values between 0 and 1\n",
    "scaler = MinMaxScaler(feature_range=(0, 1))\n",
    "train_data = scaler.fit_transform(train_data)\n",
    "test_data = scaler.transform(test_data)"
   ]
  },
  {
   "cell_type": "code",
   "execution_count": null,
   "id": "17cf87db",
   "metadata": {},
   "outputs": [],
   "source": [
    "# Reshape the data for ConvLSTM2D\n",
    "def create_dataset(dataset, look_back):\n",
    "    X, y = [], []\n",
    "    for i in range(look_back, len(dataset)):\n",
    "        X.append(dataset[i-look_back:i, :])\n",
    "        y.append(dataset[i, :])\n",
    "    X, y = np.array(X), np.array(y)\n",
    "    return X, y\n",
    "\n",
    "X_train, y_train = create_dataset(train_data, look_back)\n",
    "X_test, y_test = create_dataset(test_data, look_back)"
   ]
  },
  {
   "cell_type": "code",
   "execution_count": null,
   "id": "79095d88",
   "metadata": {},
   "outputs": [],
   "source": []
  },
  {
   "cell_type": "code",
   "execution_count": 34,
   "id": "6015a75e",
   "metadata": {},
   "outputs": [],
   "source": [
    "# Reshape the data for input to ConvLSTM2D\n",
    "X_train = X_train.reshape((X_train.shape[0], look_back, 1, 1, X_train.shape[2]))\n",
    "y_train = y_train.reshape((y_train.shape[0], 1, 1, y_train.shape[1]))\n",
    "X_test = X_test.reshape((X_test.shape[0], look_back, 1, 1, X_test.shape[2]))\n",
    "y_test = y_test.reshape((y_test.shape[0], 1, 1, y_test.shape[1]))\n"
   ]
  },
  {
   "cell_type": "code",
   "execution_count": 42,
   "id": "f0af057c",
   "metadata": {},
   "outputs": [],
   "source": [
    "# Define the ConvLSTM2D model\n",
    "model = Sequential()\n",
    "model.add(ConvLSTM2D(filters=64, kernel_size=(1,3), activation='relu', input_shape=(look_back, 1, 1, X_train.shape[-1]), padding='same', return_sequences=True))\n",
    "model.add(ConvLSTM2D(filters=32, kernel_size=(1,3), activation='relu', padding='same', return_sequences=True))\n",
    "model.add(ConvLSTM2D(filters=1, kernel_size=(1,3), activation='sigmoid', padding='same', return_sequences=False))\n",
    "model.add(Dense(units=y_train.shape[1]))"
   ]
  },
  {
   "cell_type": "code",
   "execution_count": 47,
   "id": "5f79a8b2",
   "metadata": {
    "scrolled": true
   },
   "outputs": [
    {
     "name": "stdout",
     "output_type": "stream",
     "text": [
      "Epoch 1/50\n",
      "18/18 [==============================] - 4s 65ms/step - loss: 0.0243 - val_loss: 0.0246\n",
      "Epoch 2/50\n",
      "18/18 [==============================] - 1s 55ms/step - loss: 0.0243 - val_loss: 0.0246\n",
      "Epoch 3/50\n",
      "18/18 [==============================] - 1s 55ms/step - loss: 0.0243 - val_loss: 0.0246\n",
      "Epoch 4/50\n",
      "18/18 [==============================] - 1s 55ms/step - loss: 0.0243 - val_loss: 0.0246\n",
      "Epoch 5/50\n",
      "18/18 [==============================] - 1s 55ms/step - loss: 0.0243 - val_loss: 0.0246\n",
      "Epoch 6/50\n",
      "18/18 [==============================] - 1s 59ms/step - loss: 0.0243 - val_loss: 0.0246\n",
      "Epoch 7/50\n",
      "18/18 [==============================] - 1s 60ms/step - loss: 0.0243 - val_loss: 0.0246\n",
      "Epoch 8/50\n",
      "18/18 [==============================] - 1s 60ms/step - loss: 0.0243 - val_loss: 0.0246\n",
      "Epoch 9/50\n",
      "18/18 [==============================] - 1s 59ms/step - loss: 0.0243 - val_loss: 0.0246\n",
      "Epoch 10/50\n",
      "18/18 [==============================] - 1s 62ms/step - loss: 0.0243 - val_loss: 0.0246\n",
      "Epoch 11/50\n",
      "18/18 [==============================] - 1s 60ms/step - loss: 0.0243 - val_loss: 0.0246\n",
      "Epoch 12/50\n",
      "18/18 [==============================] - 1s 59ms/step - loss: 0.0243 - val_loss: 0.0246\n",
      "Epoch 13/50\n",
      "18/18 [==============================] - 1s 59ms/step - loss: 0.0243 - val_loss: 0.0246\n",
      "Epoch 14/50\n",
      "18/18 [==============================] - 1s 59ms/step - loss: 0.0243 - val_loss: 0.0246\n",
      "Epoch 15/50\n",
      "18/18 [==============================] - 1s 59ms/step - loss: 0.0243 - val_loss: 0.0246\n",
      "Epoch 16/50\n",
      "18/18 [==============================] - 1s 60ms/step - loss: 0.0243 - val_loss: 0.0246\n",
      "Epoch 17/50\n",
      "18/18 [==============================] - 1s 59ms/step - loss: 0.0243 - val_loss: 0.0246\n",
      "Epoch 18/50\n",
      "18/18 [==============================] - 1s 59ms/step - loss: 0.0243 - val_loss: 0.0246\n",
      "Epoch 19/50\n",
      "18/18 [==============================] - 1s 59ms/step - loss: 0.0243 - val_loss: 0.0246\n",
      "Epoch 20/50\n",
      "18/18 [==============================] - 1s 60ms/step - loss: 0.0243 - val_loss: 0.0246\n",
      "Epoch 21/50\n",
      "18/18 [==============================] - 1s 61ms/step - loss: 0.0243 - val_loss: 0.0246\n",
      "Epoch 22/50\n",
      "18/18 [==============================] - 1s 60ms/step - loss: 0.0243 - val_loss: 0.0246\n",
      "Epoch 23/50\n",
      "18/18 [==============================] - 1s 59ms/step - loss: 0.0243 - val_loss: 0.0246\n",
      "Epoch 24/50\n",
      "18/18 [==============================] - 1s 61ms/step - loss: 0.0243 - val_loss: 0.0246\n",
      "Epoch 25/50\n",
      "18/18 [==============================] - 1s 60ms/step - loss: 0.0243 - val_loss: 0.0246\n",
      "Epoch 26/50\n",
      "18/18 [==============================] - 1s 65ms/step - loss: 0.0243 - val_loss: 0.0246\n",
      "Epoch 27/50\n",
      "18/18 [==============================] - 1s 63ms/step - loss: 0.0243 - val_loss: 0.0246\n",
      "Epoch 28/50\n",
      "18/18 [==============================] - 1s 60ms/step - loss: 0.0243 - val_loss: 0.0246\n",
      "Epoch 29/50\n",
      "18/18 [==============================] - 1s 62ms/step - loss: 0.0243 - val_loss: 0.0246\n",
      "Epoch 30/50\n",
      "18/18 [==============================] - 1s 61ms/step - loss: 0.0243 - val_loss: 0.0246\n",
      "Epoch 31/50\n",
      "18/18 [==============================] - 1s 61ms/step - loss: 0.0243 - val_loss: 0.0246\n",
      "Epoch 32/50\n",
      "18/18 [==============================] - 1s 59ms/step - loss: 0.0243 - val_loss: 0.0246\n",
      "Epoch 33/50\n",
      "18/18 [==============================] - 1s 67ms/step - loss: 0.0243 - val_loss: 0.0246\n",
      "Epoch 34/50\n",
      "18/18 [==============================] - 1s 61ms/step - loss: 0.0243 - val_loss: 0.0246\n",
      "Epoch 35/50\n",
      "18/18 [==============================] - 1s 60ms/step - loss: 0.0243 - val_loss: 0.0246\n",
      "Epoch 36/50\n",
      "18/18 [==============================] - 1s 64ms/step - loss: 0.0243 - val_loss: 0.0246\n",
      "Epoch 37/50\n",
      "18/18 [==============================] - 1s 61ms/step - loss: 0.0243 - val_loss: 0.0246\n",
      "Epoch 38/50\n",
      "18/18 [==============================] - 1s 60ms/step - loss: 0.0243 - val_loss: 0.0246\n",
      "Epoch 39/50\n",
      "18/18 [==============================] - 1s 61ms/step - loss: 0.0243 - val_loss: 0.0246\n",
      "Epoch 40/50\n",
      "18/18 [==============================] - 1s 59ms/step - loss: 0.0243 - val_loss: 0.0246\n",
      "Epoch 41/50\n",
      "18/18 [==============================] - 1s 60ms/step - loss: 0.0243 - val_loss: 0.0246\n",
      "Epoch 42/50\n",
      "18/18 [==============================] - 1s 60ms/step - loss: 0.0243 - val_loss: 0.0246\n",
      "Epoch 43/50\n",
      "18/18 [==============================] - 1s 60ms/step - loss: 0.0243 - val_loss: 0.0246\n",
      "Epoch 44/50\n",
      "18/18 [==============================] - 1s 60ms/step - loss: 0.0243 - val_loss: 0.0246\n",
      "Epoch 45/50\n",
      "18/18 [==============================] - 1s 60ms/step - loss: 0.0243 - val_loss: 0.0246\n",
      "Epoch 46/50\n",
      "18/18 [==============================] - 1s 59ms/step - loss: 0.0243 - val_loss: 0.0246\n",
      "Epoch 47/50\n",
      "18/18 [==============================] - 1s 60ms/step - loss: 0.0243 - val_loss: 0.0246\n",
      "Epoch 48/50\n",
      "18/18 [==============================] - 1s 60ms/step - loss: 0.0243 - val_loss: 0.0246\n",
      "Epoch 49/50\n",
      "18/18 [==============================] - 1s 60ms/step - loss: 0.0243 - val_loss: 0.0246\n",
      "Epoch 50/50\n",
      "18/18 [==============================] - 1s 60ms/step - loss: 0.0243 - val_loss: 0.0246\n"
     ]
    },
    {
     "data": {
      "text/plain": [
       "<keras.callbacks.History at 0x2d2432fb0>"
      ]
     },
     "execution_count": 47,
     "metadata": {},
     "output_type": "execute_result"
    }
   ],
   "source": [
    "\n",
    "# Compile the model\n",
    "model.compile(optimizer='adam', loss='mean_squared_error')\n",
    "\n",
    "# Train the model\n",
    "model.fit(X_train, y_train, epochs=50, batch_size=64, validation_data=(X_test, y_test), shuffle=True)\n",
    "\n"
   ]
  },
  {
   "cell_type": "code",
   "execution_count": 48,
   "id": "af1f8743",
   "metadata": {},
   "outputs": [
    {
     "name": "stdout",
     "output_type": "stream",
     "text": [
      "8/8 [==============================] - 0s 9ms/step - loss: 0.0246\n",
      "Test loss: 0.02455195039510727\n"
     ]
    }
   ],
   "source": [
    "# Evaluate the model on the test set\n",
    "test_loss = model.evaluate(X_test, y_test)\n",
    "\n",
    "# Print the test loss\n",
    "print(\"Test loss:\", test_loss)\n"
   ]
  },
  {
   "cell_type": "code",
   "execution_count": 49,
   "id": "4a193d05",
   "metadata": {},
   "outputs": [
    {
     "name": "stdout",
     "output_type": "stream",
     "text": [
      "8/8 [==============================] - 0s 7ms/step\n",
      "Shape of predictions: (251, 1, 1, 1)\n"
     ]
    }
   ],
   "source": [
    "# Make predictions on the test set\n",
    "y_pred = model.predict(X_test)\n",
    "\n",
    "# Print the shape of the predictions\n",
    "print(\"Shape of predictions:\", y_pred.shape)\n"
   ]
  }
 ],
 "metadata": {
  "kernelspec": {
   "display_name": "Python 3 (ipykernel)",
   "language": "python",
   "name": "python3"
  },
  "language_info": {
   "codemirror_mode": {
    "name": "ipython",
    "version": 3
   },
   "file_extension": ".py",
   "mimetype": "text/x-python",
   "name": "python",
   "nbconvert_exporter": "python",
   "pygments_lexer": "ipython3",
   "version": "3.10.9"
  },
  "toc": {
   "base_numbering": 1,
   "nav_menu": {},
   "number_sections": true,
   "sideBar": true,
   "skip_h1_title": false,
   "title_cell": "Table of Contents",
   "title_sidebar": "Contents",
   "toc_cell": false,
   "toc_position": {},
   "toc_section_display": true,
   "toc_window_display": false
  }
 },
 "nbformat": 4,
 "nbformat_minor": 5
}
